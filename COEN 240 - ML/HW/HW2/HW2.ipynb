{
  "cells": [
    {
      "cell_type": "code",
      "execution_count": 1,
      "metadata": {
        "colab": {
          "base_uri": "https://localhost:8080/"
        },
        "id": "K_f3AWlurl6J",
        "outputId": "647cd2b4-4a76-43b8-94d7-891df8860381"
      },
      "outputs": [
        {
          "name": "stdout",
          "output_type": "stream",
          "text": [
            "True\n",
            "False\n"
          ]
        }
      ],
      "source": [
        "# Write a python function that takes a sequence of numbers and determines \n",
        "# if all the numbers are distinct from each other or if there are any duplicates.\n",
        "\n",
        "def test_distinct(data):\n",
        "  if len(data) == len(set(data)):\n",
        "    return True\n",
        "  else:\n",
        "    return False\n",
        "\n",
        "print(test_distinct([1,5,7,9]))\n",
        "print(test_distinct([2,4,5,5,7,9]))"
      ]
    },
    {
      "cell_type": "code",
      "execution_count": 2,
      "metadata": {
        "colab": {
          "base_uri": "https://localhost:8080/"
        },
        "id": "Nkizfse1r7cA",
        "outputId": "0860a5ed-c1ac-4d2a-8a63-9bc7e92bd1e5"
      },
      "outputs": [
        {
          "name": "stdout",
          "output_type": "stream",
          "text": [
            "[1 3 5]\n"
          ]
        }
      ],
      "source": [
        "# Write a python function to find indices of elements that are equal to zero in a numpy array.\n",
        "\n",
        "def zero_index(numpy_array):\n",
        "  res = np.where(numpy_array == 0)[0]\n",
        "  print(res)\n",
        "\n",
        "import numpy as np\n",
        "zero_index(np.array([1,0,2,0,3,0,4,5,6,7,8]))"
      ]
    },
    {
      "cell_type": "code",
      "execution_count": 3,
      "metadata": {
        "colab": {
          "base_uri": "https://localhost:8080/"
        },
        "id": "SD8N_YJFscsB",
        "outputId": "f561e0ff-7fb5-4078-b18a-c387cc3fbd59"
      },
      "outputs": [
        {
          "name": "stdout",
          "output_type": "stream",
          "text": [
            "149.296875\n"
          ]
        }
      ],
      "source": [
        "# Write a program to compute and print the Mean Squared Error (MSE)\n",
        "\n",
        "import numpy as np\n",
        "\n",
        "sum1 = 0\n",
        "w = [0.25,0.75]\n",
        "x = [100,200,300,400,500]\n",
        "y = [65,155,220,310,370]\n",
        "\n",
        "wt = np.array(w)\n",
        "xt = np.array(x)\n",
        "yt = np.array(y)\n",
        "\n",
        "x_t = []\n",
        "\n",
        "for i in x:\n",
        "    x_t.append(wt[1]*i)\n",
        "\n",
        "x_t = np.array(x_t)\n",
        "\n",
        "for j in range(1, len(xt)):\n",
        "    sum1 = sum1 + 1/j*((w[0]+x_t[j-1]-yt[j-1])**2)\n",
        "\n",
        "print(sum1)"
      ]
    }
  ],
  "metadata": {
    "colab": {
      "provenance": [],
      "toc_visible": true
    },
    "kernelspec": {
      "display_name": "Python 3",
      "name": "python3"
    }
  },
  "nbformat": 4,
  "nbformat_minor": 0
}
